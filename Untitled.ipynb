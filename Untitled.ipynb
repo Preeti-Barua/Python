{
 "cells": [
  {
   "cell_type": "code",
   "execution_count": 13,
   "metadata": {},
   "outputs": [
    {
     "name": "stdout",
     "output_type": "stream",
     "text": [
      "1A\n",
      "26\n",
      "equal\n"
     ]
    }
   ],
   "source": [
    "#program to convert hexadecimal value to decimal and compare decimal value with k given\n",
    "\n",
    "#input   1A\n",
    "         26\n",
    "#output  equal\n",
    "h= input()\n",
    "k= int(input())\n",
    "d= int(a,16)\n",
    "if(k==d):\n",
    "    print(\"equal\")\n",
    "else:\n",
    "    print(\"unequal\")\n"
   ]
  },
  {
   "cell_type": "code",
   "execution_count": 16,
   "metadata": {},
   "outputs": [
    {
     "name": "stdout",
     "output_type": "stream",
     "text": [
      "preeti\n",
      "i t e e r p "
     ]
    }
   ],
   "source": [
    "#reverse of a string\n",
    "s= input()\n",
    "l=len(s)\n",
    "for i in range(l-1,-1,-1):\n",
    "    print(s[i],end=\" \")\n"
   ]
  },
  {
   "cell_type": "code",
   "execution_count": 22,
   "metadata": {},
   "outputs": [
    {
     "name": "stdout",
     "output_type": "stream",
     "text": [
      "8\n",
      "0001\n"
     ]
    }
   ],
   "source": [
    "#Program to convert decimal to binary in reverse order\n",
    "n= int(input())\n",
    "b= bin(n)\n",
    "print(b[2:][::-1])"
   ]
  },
  {
   "cell_type": "code",
   "execution_count": null,
   "metadata": {},
   "outputs": [],
   "source": []
  }
 ],
 "metadata": {
  "kernelspec": {
   "display_name": "Python 3",
   "language": "python",
   "name": "python3"
  },
  "language_info": {
   "codemirror_mode": {
    "name": "ipython",
    "version": 3
   },
   "file_extension": ".py",
   "mimetype": "text/x-python",
   "name": "python",
   "nbconvert_exporter": "python",
   "pygments_lexer": "ipython3",
   "version": "3.7.6"
  }
 },
 "nbformat": 4,
 "nbformat_minor": 4
}
